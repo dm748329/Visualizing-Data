{
 "cells": [
  {
   "cell_type": "markdown",
   "id": "7ad28880-6bc8-4663-80eb-a0af28fe3dae",
   "metadata": {},
   "source": [
    "# Introduction to Plotting with Seaborn\n",
    "\n",
    "[Watch a walk-through of this lesson on YouTube](https://youtu.be/851pCwAZWsY)\n",
    "\n",
    "## Learning Objectives\n",
    "- Be familiar with the use-cases for Seaborn plots\n",
    "- Generate a variety of plots in Seaborn useful for EDA\n",
    "- Understand the advantages and disadvantages of different types of plots in Seaborn\n",
    "- Recognize and appropriately use strategies for visualizing continuous and categorical data\n",
    "- Visualize and reason about the distributions of data\n",
    "\n",
    "---\n",
    "\n",
    "## Introduction\n",
    "\n",
    "[Seaborn](https://seaborn.pydata.org) is a great Python plotting package that is built on top of Matplotlib. That is, it uses Matplotlib \"under the hood\", but it offers the user a much simpler API (set of commands) that enable us to generate a variety of great-looking plots that are particularly useful in data science. You can check out Seaborn's [examples gallery](https://seaborn.pydata.org/examples/index.html) to see some of the cool stuff you can do (including plotting neuroscience data!). Seaborn was written by [Michael Waskom](https://mwaskom.github.io/).\n",
    "\n",
    "Comparing Seaborn to Matplotlib, you could say that Matplotlib gives you every sharp, hard-to-use tool in the shed, and you have to figure out how to learn them all without chopping off a finger. Fortunately in data science you aren't likely to lose any fingers, but Seaborn gives you some DIY-friendly power tools to get data science jobs done easily and looking great. \n",
    "\n",
    "\n"
   ]
  },
  {
   "cell_type": "markdown",
   "id": "0ff8e231-13cd-41db-a73e-da71a1e14955",
   "metadata": {},
   "source": [
    "## Overview of Seaborn Plotting Functions\n",
    "\n",
    "Seaborn is organized into three categories of plot types, as shown below:\n",
    "\n",
    "<img src=https://seaborn.pydata.org/_images/function_overview_8_0.png  alt='Seaborn overview' width=500>\n",
    "\n",
    "*Image source: [seaborn.pydata.org](seaborn.pydata.org)*\n",
    "\n",
    "You can see that Seaborn's functions are organized around the different types of data, and questions we typically ask of data in data science: the `relpolt` function plots relationships between different (continuous) variables; the `displot` function plots distributions of data (such as histograms), and the `catplot` function.\n"
   ]
  },
  {
   "cell_type": "markdown",
   "id": "ba416fff-1919-44b4-be01-616ec4e41933",
   "metadata": {},
   "source": [
    "## Importing the Seaborn package\n",
    "\n",
    "By convention, the alias we use when importing Seaborn is `sns`.\n",
    "\n",
    "We'll also be using some other packages, so we'll import those packages at the same time."
   ]
  },
  {
   "cell_type": "markdown",
   "id": "326925b3-c710-4a6c-a44f-3d7a2defe9b3",
   "metadata": {},
   "source": [
    "~~~python\n",
    "import seaborn as sns\n",
    "import pandas as pd\n",
    "import matplotlib.pyplot as plt\n",
    "import glob\n",
    "~~~"
   ]
  },
  {
   "cell_type": "code",
   "execution_count": 5,
   "id": "8fa8ab6f-cb60-409c-ac9f-65c8a2245999",
   "metadata": {},
   "outputs": [],
   "source": [
    "\n",
    "import seaborn as sns\n",
    "import pandas as pd\n",
    "import matplotlib.pyplot as plt\n",
    "import glob"
   ]
  },
  {
   "cell_type": "markdown",
   "id": "0478be1e-48cf-4e62-b95f-ae6b6778c553",
   "metadata": {
    "tags": []
   },
   "source": [
    "## Plotting Gapminder data\n",
    "\n",
    "Mostly we'll work with long-format data from here on, but since we have worked with the Gapminder data up until now, let's see how we can generate a plot similar to what we produced in the [Introduction to Plotting with Matplotlib](./plotting) lesson.\n",
    "\n",
    "First we'll load the Ocieania GDP data, and strip the leading text off column names so that they are just the years:"
   ]
  },
  {
   "cell_type": "markdown",
   "id": "bae1ade9-767b-4250-a95c-a0533b5d48ee",
   "metadata": {},
   "source": [
    "~~~python\n",
    "df = pd.read_csv('data/gapminder_gdp_oceania.csv', index_col='country')\n",
    "df.columns = df.columns.str.strip('gdpPercap_')\n",
    "~~~"
   ]
  },
  {
   "cell_type": "code",
   "execution_count": 6,
   "id": "d1e56d29-d560-4ca6-b5e6-945dd58ca197",
   "metadata": {},
   "outputs": [
    {
     "data": {
      "text/html": [
       "<div>\n",
       "<style scoped>\n",
       "    .dataframe tbody tr th:only-of-type {\n",
       "        vertical-align: middle;\n",
       "    }\n",
       "\n",
       "    .dataframe tbody tr th {\n",
       "        vertical-align: top;\n",
       "    }\n",
       "\n",
       "    .dataframe thead th {\n",
       "        text-align: right;\n",
       "    }\n",
       "</style>\n",
       "<table border=\"1\" class=\"dataframe\">\n",
       "  <thead>\n",
       "    <tr style=\"text-align: right;\">\n",
       "      <th></th>\n",
       "      <th>1952</th>\n",
       "      <th>1957</th>\n",
       "      <th>1962</th>\n",
       "      <th>1967</th>\n",
       "      <th>1972</th>\n",
       "      <th>1977</th>\n",
       "      <th>1982</th>\n",
       "      <th>1987</th>\n",
       "      <th>1992</th>\n",
       "      <th>1997</th>\n",
       "      <th>2002</th>\n",
       "      <th>2007</th>\n",
       "    </tr>\n",
       "    <tr>\n",
       "      <th>country</th>\n",
       "      <th></th>\n",
       "      <th></th>\n",
       "      <th></th>\n",
       "      <th></th>\n",
       "      <th></th>\n",
       "      <th></th>\n",
       "      <th></th>\n",
       "      <th></th>\n",
       "      <th></th>\n",
       "      <th></th>\n",
       "      <th></th>\n",
       "      <th></th>\n",
       "    </tr>\n",
       "  </thead>\n",
       "  <tbody>\n",
       "    <tr>\n",
       "      <th>Australia</th>\n",
       "      <td>10039.59564</td>\n",
       "      <td>10949.64959</td>\n",
       "      <td>12217.22686</td>\n",
       "      <td>14526.12465</td>\n",
       "      <td>16788.62948</td>\n",
       "      <td>18334.19751</td>\n",
       "      <td>19477.00928</td>\n",
       "      <td>21888.88903</td>\n",
       "      <td>23424.76683</td>\n",
       "      <td>26997.93657</td>\n",
       "      <td>30687.75473</td>\n",
       "      <td>34435.36744</td>\n",
       "    </tr>\n",
       "    <tr>\n",
       "      <th>New Zealand</th>\n",
       "      <td>10556.57566</td>\n",
       "      <td>12247.39532</td>\n",
       "      <td>13175.67800</td>\n",
       "      <td>14463.91893</td>\n",
       "      <td>16046.03728</td>\n",
       "      <td>16233.71770</td>\n",
       "      <td>17632.41040</td>\n",
       "      <td>19007.19129</td>\n",
       "      <td>18363.32494</td>\n",
       "      <td>21050.41377</td>\n",
       "      <td>23189.80135</td>\n",
       "      <td>25185.00911</td>\n",
       "    </tr>\n",
       "  </tbody>\n",
       "</table>\n",
       "</div>"
      ],
      "text/plain": [
       "                    1952         1957         1962         1967         1972  \\\n",
       "country                                                                        \n",
       "Australia    10039.59564  10949.64959  12217.22686  14526.12465  16788.62948   \n",
       "New Zealand  10556.57566  12247.39532  13175.67800  14463.91893  16046.03728   \n",
       "\n",
       "                    1977         1982         1987         1992         1997  \\\n",
       "country                                                                        \n",
       "Australia    18334.19751  19477.00928  21888.88903  23424.76683  26997.93657   \n",
       "New Zealand  16233.71770  17632.41040  19007.19129  18363.32494  21050.41377   \n",
       "\n",
       "                    2002         2007  \n",
       "country                                \n",
       "Australia    30687.75473  34435.36744  \n",
       "New Zealand  23189.80135  25185.00911  "
      ]
     },
     "execution_count": 6,
     "metadata": {},
     "output_type": "execute_result"
    }
   ],
   "source": [
    "df = pd.read_csv('data/gapminder_gdp_oceania.csv', index_col='country')\n",
    "df.columns = df.columns.str.strip('gdpPercap_')\n",
    "\n",
    "df"
   ]
  },
  {
   "cell_type": "markdown",
   "id": "fb1d202f-1c34-4b3a-94c0-e06b8ebdeb47",
   "metadata": {},
   "source": [
    "In the previous lesson, we plotted GDP for each country as a function of year. That is, year is on the *x* axis, GDP is on the *y* axis, and there are separate lines for each country. As discussed previously, in this dataset, year is a continuous variable, as is GDP, but country is a categorical variable. \n",
    "\n",
    "From the figure of Seaborn plot types above, you can see that `relplot()` is the function to use for relational plots — that is, when you want to show the relationships between two continuous variables (year and GDP in this case)."
   ]
  },
  {
   "cell_type": "markdown",
   "id": "dadbfa17-2b28-4807-bed2-ed13a6456674",
   "metadata": {},
   "source": [
    "~~~python\n",
    "sns.relplot(data=df.T, kind='line')  # For wide-format data we need to transpose rows & columns\n",
    "plt.show() # Always good practice to have this as the last line in a plotting cell\n",
    "~~~"
   ]
  },
  {
   "cell_type": "code",
   "execution_count": 7,
   "id": "94c99b10-e5c9-41a7-9d9d-fd64335e2f71",
   "metadata": {},
   "outputs": [
    {
     "data": {
      "image/png": "[encoded data removed]",
      "text/plain": [
       "<Figure size 641.375x500 with 1 Axes>"
      ]
     },
     "metadata": {},
     "output_type": "display_data"
    }
   ],
   "source": [
    "sns.relplot(data=df.T, kind='line')\n",
    "plt.show()\n"
   ]
  },
  {
   "cell_type": "markdown",
   "id": "83b3b7b5-3a10-4a7c-89a8-7f2dd6970fde",
   "metadata": {},
   "source": [
    "Compared to plotting the data in Matplotlib (below), the results are similar, but Seaborn adds some aesthetic touches by default, such as reducing the number of irrelevant frame lines, putting the legend outside the plot, and making the line for the second condition dashed (which aids in discriminating lines, especially if there are several of them, or if someone has vision problems). As we'll see, Seaborn isn't just another pretty face — it also makes a wide variety of plots easy to make with a consistent and relatively intuitive syntax.\n",
    "\n",
    "~~~python\n",
    "# Matplotlib version of the same plot\n",
    "df.T.plot()\n",
    "plt.show()\n",
    "~~~"
   ]
  },
  {
   "cell_type": "code",
   "execution_count": 8,
   "id": "0cfa66fc-daa7-40f4-a5a8-d322e39d8a39",
   "metadata": {},
   "outputs": [
    {
     "data": {
      "image/png": "[encoded data removed]",
      "text/plain": [
       "<Figure size 640x480 with 1 Axes>"
      ]
     },
     "metadata": {},
     "output_type": "display_data"
    }
   ],
   "source": [
    "df.T.plot()\n",
    "plt.show()\n",
    "\n"
   ]
  },
  {
   "cell_type": "markdown",
   "id": "6257e2e3-9b77-47b1-b9ce-ff3135201086",
   "metadata": {},
   "source": [
    "### Plotting Long-Format Data\n",
    "\n",
    "Let's move to working with some data of the sort we might find in cognitive psychology. Imagine a simple **lexical decision task**, an experiment in which each trial involves presenting a printed string of letters to a participant, and asking them to make a response as quickly as possible: pressing one button of the word is a real word in their native language, and another button if it is not a real word. The dependent variable in the experiment is reaction time (RT) — the amount of time that passed between the onset of the word on the screen, and the button press.\n",
    "\n",
    "Lexical decision tasks are commonly used in psycholinguistics to explore properties of the real words, such as their length or how frequently they occur in normal usage. However, for our simple example, we'll focus on the simpler fact that, on average, people are slower in responding to nonwords than real words (especially if the nonwords look plausibly like real words, for example words like *blorp* or *furtle* that follow English word formation patterns).\n",
    "\n",
    "We've created some data, using a random number generator, to use in our plotting examples. The data were deliberately created with certain properties, so that the expected difference between RTs. We have data from 5 hypothetical participants, stored in separate data files in the `data` folder. The naming format for the files is `ldt_sXX_data.csv`, where `XX` stands for the subject ID number (two digits).\n",
    "\n",
    "First we'll load the data from the files, practicing our [list comprehension](../3-python/looping-data-files), and storing the result in a pandas DataFrame called `df`:\n",
    "\n",
    "~~~python\n",
    "df = pd.concat([pd.read_csv(f) for f in glob.glob('data/ldt_s??_data.csv')])\n",
    "~~~"
   ]
  },
  {
   "cell_type": "code",
   "execution_count": 9,
   "id": "29ca5ada-d3be-4b5c-a241-763f10d6e810",
   "metadata": {},
   "outputs": [],
   "source": [
    "df = pd.concat([pd.read_csv(f) for f in glob.glob('data/ldt_s??_data.csv')])"
   ]
  },
  {
   "cell_type": "markdown",
   "id": "ce36c051",
   "metadata": {},
   "source": [
    "we added the ?? to identify unique value within dataset / files\n",
    "each '?' represents one character"
   ]
  },
  {
   "cell_type": "markdown",
   "id": "86d9df84-2f4c-45f5-b976-c5893202e23c",
   "metadata": {},
   "source": [
    "Let's look at a sample of the data:\n",
    "\n",
    "~~~python\n",
    "df.sample(10)\n",
    "~~~"
   ]
  },
  {
   "cell_type": "code",
   "execution_count": 10,
   "id": "0a627d61-25b5-4236-bf21-06d153dba11d",
   "metadata": {},
   "outputs": [
    {
     "data": {
      "text/html": [
       "<div>\n",
       "<style scoped>\n",
       "    .dataframe tbody tr th:only-of-type {\n",
       "        vertical-align: middle;\n",
       "    }\n",
       "\n",
       "    .dataframe tbody tr th {\n",
       "        vertical-align: top;\n",
       "    }\n",
       "\n",
       "    .dataframe thead th {\n",
       "        text-align: right;\n",
       "    }\n",
       "</style>\n",
       "<table border=\"1\" class=\"dataframe\">\n",
       "  <thead>\n",
       "    <tr style=\"text-align: right;\">\n",
       "      <th></th>\n",
       "      <th>ID</th>\n",
       "      <th>condition</th>\n",
       "      <th>RT</th>\n",
       "    </tr>\n",
       "  </thead>\n",
       "  <tbody>\n",
       "    <tr>\n",
       "      <th>12</th>\n",
       "      <td>ldt_s05</td>\n",
       "      <td>word</td>\n",
       "      <td>0.500721</td>\n",
       "    </tr>\n",
       "    <tr>\n",
       "      <th>18</th>\n",
       "      <td>ldt_s02</td>\n",
       "      <td>word</td>\n",
       "      <td>0.486470</td>\n",
       "    </tr>\n",
       "    <tr>\n",
       "      <th>25</th>\n",
       "      <td>ldt_s01</td>\n",
       "      <td>nonword</td>\n",
       "      <td>0.767575</td>\n",
       "    </tr>\n",
       "    <tr>\n",
       "      <th>27</th>\n",
       "      <td>ldt_s02</td>\n",
       "      <td>nonword</td>\n",
       "      <td>0.605523</td>\n",
       "    </tr>\n",
       "    <tr>\n",
       "      <th>28</th>\n",
       "      <td>ldt_s01</td>\n",
       "      <td>nonword</td>\n",
       "      <td>0.855918</td>\n",
       "    </tr>\n",
       "    <tr>\n",
       "      <th>32</th>\n",
       "      <td>ldt_s02</td>\n",
       "      <td>nonword</td>\n",
       "      <td>0.738254</td>\n",
       "    </tr>\n",
       "    <tr>\n",
       "      <th>25</th>\n",
       "      <td>ldt_s04</td>\n",
       "      <td>nonword</td>\n",
       "      <td>0.560295</td>\n",
       "    </tr>\n",
       "    <tr>\n",
       "      <th>47</th>\n",
       "      <td>ldt_s04</td>\n",
       "      <td>nonword</td>\n",
       "      <td>0.848745</td>\n",
       "    </tr>\n",
       "    <tr>\n",
       "      <th>29</th>\n",
       "      <td>ldt_s04</td>\n",
       "      <td>nonword</td>\n",
       "      <td>0.924723</td>\n",
       "    </tr>\n",
       "    <tr>\n",
       "      <th>30</th>\n",
       "      <td>ldt_s03</td>\n",
       "      <td>nonword</td>\n",
       "      <td>0.701244</td>\n",
       "    </tr>\n",
       "  </tbody>\n",
       "</table>\n",
       "</div>"
      ],
      "text/plain": [
       "         ID condition        RT\n",
       "12  ldt_s05      word  0.500721\n",
       "18  ldt_s02      word  0.486470\n",
       "25  ldt_s01   nonword  0.767575\n",
       "27  ldt_s02   nonword  0.605523\n",
       "28  ldt_s01   nonword  0.855918\n",
       "32  ldt_s02   nonword  0.738254\n",
       "25  ldt_s04   nonword  0.560295\n",
       "47  ldt_s04   nonword  0.848745\n",
       "29  ldt_s04   nonword  0.924723\n",
       "30  ldt_s03   nonword  0.701244"
      ]
     },
     "execution_count": 10,
     "metadata": {},
     "output_type": "execute_result"
    }
   ],
   "source": [
    "df.sample(10)"
   ]
  },
  {
   "cell_type": "markdown",
   "id": "6243e29c-8270-4d93-909d-ce14cccd2b95",
   "metadata": {},
   "source": [
    "We can see that there are three columns:\n",
    "- `ID` is the unique participant identifier\n",
    "- `condition` is the type of word (real or nonword)\n",
    "- `RT` is reaction time, measured in seconds"
   ]
  },
  {
   "cell_type": "markdown",
   "id": "debfc85a-39be-4510-bdc9-b1441c891525",
   "metadata": {},
   "source": [
    "## Descriptive statistics\n",
    "\n",
    "We can use the pandas `.describe()` method to examine some basic properties of our data:\n",
    "\n",
    "~~~python\n",
    "df.describe()\n",
    "~~~"
   ]
  },
  {
   "cell_type": "code",
   "execution_count": 10,
   "id": "237eb927-dcf8-44e6-b87d-69e0c20d234c",
   "metadata": {},
   "outputs": [
    {
     "data": {
      "text/html": [
       "<div>\n",
       "<style scoped>\n",
       "    .dataframe tbody tr th:only-of-type {\n",
       "        vertical-align: middle;\n",
       "    }\n",
       "\n",
       "    .dataframe tbody tr th {\n",
       "        vertical-align: top;\n",
       "    }\n",
       "\n",
       "    .dataframe thead th {\n",
       "        text-align: right;\n",
       "    }\n",
       "</style>\n",
       "<table border=\"1\" class=\"dataframe\">\n",
       "  <thead>\n",
       "    <tr style=\"text-align: right;\">\n",
       "      <th></th>\n",
       "      <th>RT</th>\n",
       "    </tr>\n",
       "  </thead>\n",
       "  <tbody>\n",
       "    <tr>\n",
       "      <th>count</th>\n",
       "      <td>250.000000</td>\n",
       "    </tr>\n",
       "    <tr>\n",
       "      <th>mean</th>\n",
       "      <td>0.693857</td>\n",
       "    </tr>\n",
       "    <tr>\n",
       "      <th>std</th>\n",
       "      <td>0.155706</td>\n",
       "    </tr>\n",
       "    <tr>\n",
       "      <th>min</th>\n",
       "      <td>0.290267</td>\n",
       "    </tr>\n",
       "    <tr>\n",
       "      <th>25%</th>\n",
       "      <td>0.587107</td>\n",
       "    </tr>\n",
       "    <tr>\n",
       "      <th>50%</th>\n",
       "      <td>0.695936</td>\n",
       "    </tr>\n",
       "    <tr>\n",
       "      <th>75%</th>\n",
       "      <td>0.801115</td>\n",
       "    </tr>\n",
       "    <tr>\n",
       "      <th>max</th>\n",
       "      <td>1.109028</td>\n",
       "    </tr>\n",
       "  </tbody>\n",
       "</table>\n",
       "</div>"
      ],
      "text/plain": [
       "               RT\n",
       "count  250.000000\n",
       "mean     0.693857\n",
       "std      0.155706\n",
       "min      0.290267\n",
       "25%      0.587107\n",
       "50%      0.695936\n",
       "75%      0.801115\n",
       "max      1.109028"
      ]
     },
     "execution_count": 10,
     "metadata": {},
     "output_type": "execute_result"
    }
   ],
   "source": [
    "df.describe()"
   ]
  },
  {
   "cell_type": "markdown",
   "id": "3bc7430c-4dd9-422c-9545-e106703aa176",
   "metadata": {},
   "source": [
    "Since `RT` is the only continuous variable in this DataFrame, we only get descriptive statistics for this variable."
   ]
  },
  {
   "cell_type": "markdown",
   "id": "bc3489f9-38cd-42d5-b20c-cf140f6fdf71",
   "metadata": {},
   "source": [
    "## Examining distributions with histograms\n",
    "\n",
    "**Histograms** are a type of plot that allows us to view distributions of values. The *x* axis of a histogram represents the values in the data, and the *y* axis shows the count of how many trials had that value on the *x* axis. Values on the *x* axis are grouped into *bins* — ranges of values. \n",
    "\n",
    "In Seaborn, we use the `displot()` function to plot distributions. Histograms are one type of `displot`, but they are the default, so we can just run the following:\n",
    "\n",
    "~~~python\n",
    "sns.displot(data=df, x='RT')\n",
    "plt.show()\n",
    "~~~"
   ]
  },
  {
   "cell_type": "code",
   "execution_count": 11,
   "id": "f9e91424-2aa7-4347-a8b6-7f194c7b2e24",
   "metadata": {},
   "outputs": [
    {
     "data": {
      "image/png": "[encoded data removed]",
      "text/plain": [
       "<Figure size 500x500 with 1 Axes>"
      ]
     },
     "metadata": {},
     "output_type": "display_data"
    }
   ],
   "source": [
    "sns.displot(data=df, x='RT')\n",
    "plt.show()"
   ]
  },
  {
   "cell_type": "markdown",
   "id": "87e9bcc2-3243-4334-a3fa-e2a3267ec337",
   "metadata": {},
   "source": [
    "Comparing the range of values on the *x* axis with the `min` and `max` values from `df.describe()`, we see that the entire range of values is represented. The range of RT values have been binned into 11 categories, in order to draw the 11 bars in the histogram. We can see that the most common values of RT are between approximately 0.5 – 0.6 s, which corresponds to the median (`50%`) value shown by `pd.describe()`. We can also see that the data are slightly *skewed* — there is a wider range of values to the right than the left of the peak. Visualizing distributions is thus a useful way of examining your data, and you can likely glean more information from this plot, more quickly and easily, than from the descriptive statistics table above."
   ]
  },
  {
   "cell_type": "markdown",
   "id": "12ab2798-9137-4b13-b27b-edf9eb86d8dc",
   "metadata": {},
   "source": [
    "### Tweaking Seaborn plots\n",
    "We can adjust the parameters of the histogram with a few kwargs, including adjusting *technical* aspects of how the data are treated to create the plot (like the number of bins), and *aesthetic* aspects of how it is represented visually (like the colour).\n",
    "\n",
    "~~~python\n",
    "sns.displot(data=df, x='RT',\n",
    "           bins=25,\n",
    "           color='red')\n",
    "plt.show()\n",
    "~~~"
   ]
  },
  {
   "cell_type": "code",
   "execution_count": 15,
   "id": "0bfe3c32-272c-4430-bda9-a6897e50be70",
   "metadata": {},
   "outputs": [
    {
     "data": {
      "image/png": "[encoded data removed]",
      "text/plain": [
       "<Figure size 500x500 with 1 Axes>"
      ]
     },
     "metadata": {},
     "output_type": "display_data"
    }
   ],
   "source": [
    "sns.displot(data=df, x='RT', bins=25, color='red')\n",
    "plt.show()"
   ]
  },
  {
   "cell_type": "markdown",
   "id": "f175bc78-824a-4da3-8ba5-a09e31fc5218",
   "metadata": {},
   "source": [
    "In the above plot we increased the number of bins from the default to 25. You can see that the histogram looks less  smooth than it did with fewer bins — increasing the number of bins decreases the number of data points in the bins, which in turn results in greater random variability. \n",
    "\n",
    "By default (when you don't specify a number of bins), the software makes a decision based on characteristics of the data, which usually results in sensible bin sizes. "
   ]
  },
  {
   "cell_type": "markdown",
   "id": "a621db97-6be0-425f-80be-1f7161b7233b",
   "metadata": {
    "tags": []
   },
   "source": [
    "### What to plot on the histogram *y* axis\n",
    "\n",
    "By default, on the *y* axis Seaborn plots the count of the number of data points in each bin. This isn't always the best measure. It's fine if you just want to look at how values are distributed over the variable on the *x* axis, but if you want to compare histograms, the scale can be deceiving if the total number of data points in different plots is different. For this reason, we can *scale* the data in different ways. \n",
    "\n",
    "Particularly useful is to **normalize** the data. For example, you can use `stat='probability'` to make every histograms bar heights sum to 1. This means that the *y* axis now reflects the proportion (percentage) of the data in each bin.  \n",
    "\n",
    "~~~python\n",
    "sns.displot(data=df, x='RT',\n",
    "           stat='probability')\n",
    "plt.show()\n",
    "~~~"
   ]
  },
  {
   "cell_type": "code",
   "execution_count": 18,
   "id": "e91d6b10-90e8-471a-a609-b99f5f8949ff",
   "metadata": {},
   "outputs": [
    {
     "data": {
      "image/png": "[encoded data removed]",
      "text/plain": [
       "<Figure size 500x500 with 1 Axes>"
      ]
     },
     "metadata": {},
     "output_type": "display_data"
    }
   ],
   "source": [
    "sns.displot(data=df, x= 'RT', stat= 'probability')\n",
    "plt.show()"
   ]
  },
  {
   "cell_type": "markdown",
   "id": "33e89c1e-c48b-499c-ba81-5327c5bbd0d8",
   "metadata": {
    "tags": []
   },
   "source": [
    "### Kernel density estimate\n",
    "\n",
    "An alternative form of distribution plot in Seaborn is the *kernel density estimate* (`kde`; often more simply called a \"density plot\"). This is like a histogram, but plots smooth curves over the range of values rather than bins as bars. This is another kind of normalization, but rather than making the heights of the bars sum to 1, the density estimate makes the area under the smoothed curve equal to 1.\n",
    "\n",
    "Note however that while histograms represent, literally, the number of data points in each bin, the KDEs are *estimates* of the true distribution, and are effectively smoothed and thus slightly less accurate representations of the data you have. On the other hand, KDEs are *models* that predict what the true distirbution would be, if more data was collected. \n",
    "\n",
    "In practice, the difference between histograms and KDEs is relatively small in terms of how one might interpret what they show, but this distinction between literal presentations of data and estimates meant to generalize beyond the data is an important concept that cuts through all of data science.\n",
    "\n",
    "To override the default kind of plot generated by `displot()` (a histogram), we add a `kind` kwarg: \n",
    "\n",
    "~~~python\n",
    "sns.displot(kind='kde',\n",
    "           data=df, x='RT')\n",
    "plt.show()\n",
    "~~~"
   ]
  },
  {
   "cell_type": "code",
   "execution_count": 19,
   "id": "2e5e33a7-a63a-4328-8ce9-74320ac1081f",
   "metadata": {},
   "outputs": [
    {
     "data": {
      "image/png": "[encoded data removed]",
      "text/plain": [
       "<Figure size 500x500 with 1 Axes>"
      ]
     },
     "metadata": {},
     "output_type": "display_data"
    }
   ],
   "source": [
    "sns.displot(kind= 'kde', data= df, x= 'RT')\n",
    "plt.show()"
   ]
  },
  {
   "cell_type": "markdown",
   "id": "8777629a-e2da-4258-94f8-f96b5edbf499",
   "metadata": {},
   "source": [
    "Density plots arguably make more sense for continuous variables like reaction time, since they represent continuous variables in a more continuous fashion. "
   ]
  },
  {
   "cell_type": "markdown",
   "id": "e05d4cb5-a87d-478e-ae26-fcc237e680ce",
   "metadata": {},
   "source": [
    "## Viewing the data by condition\n",
    "\n",
    "As noted, the experiment had two conditions, words and nonwords. So far we've looked at the data overall, combining RTs from those two conditions. But it's easy to look at the data broken down by condition. \n",
    "\n",
    "Firstly, we can use pandas' `.groupby()` method to get descriptive statistics:\n",
    "\n",
    "~~~python\n",
    "df.groupby('condition').describe()\n",
    "~~~"
   ]
  },
  {
   "cell_type": "code",
   "execution_count": 20,
   "id": "b300aa10-5be3-4b3f-a18e-9829b5c04a0e",
   "metadata": {},
   "outputs": [
    {
     "data": {
      "text/html": [
       "<div>\n",
       "<style scoped>\n",
       "    .dataframe tbody tr th:only-of-type {\n",
       "        vertical-align: middle;\n",
       "    }\n",
       "\n",
       "    .dataframe tbody tr th {\n",
       "        vertical-align: top;\n",
       "    }\n",
       "\n",
       "    .dataframe thead tr th {\n",
       "        text-align: left;\n",
       "    }\n",
       "\n",
       "    .dataframe thead tr:last-of-type th {\n",
       "        text-align: right;\n",
       "    }\n",
       "</style>\n",
       "<table border=\"1\" class=\"dataframe\">\n",
       "  <thead>\n",
       "    <tr>\n",
       "      <th></th>\n",
       "      <th colspan=\"8\" halign=\"left\">RT</th>\n",
       "    </tr>\n",
       "    <tr>\n",
       "      <th></th>\n",
       "      <th>count</th>\n",
       "      <th>mean</th>\n",
       "      <th>std</th>\n",
       "      <th>min</th>\n",
       "      <th>25%</th>\n",
       "      <th>50%</th>\n",
       "      <th>75%</th>\n",
       "      <th>max</th>\n",
       "    </tr>\n",
       "    <tr>\n",
       "      <th>condition</th>\n",
       "      <th></th>\n",
       "      <th></th>\n",
       "      <th></th>\n",
       "      <th></th>\n",
       "      <th></th>\n",
       "      <th></th>\n",
       "      <th></th>\n",
       "      <th></th>\n",
       "    </tr>\n",
       "  </thead>\n",
       "  <tbody>\n",
       "    <tr>\n",
       "      <th>nonword</th>\n",
       "      <td>125.0</td>\n",
       "      <td>0.791036</td>\n",
       "      <td>0.122998</td>\n",
       "      <td>0.492957</td>\n",
       "      <td>0.70153</td>\n",
       "      <td>0.790963</td>\n",
       "      <td>0.870088</td>\n",
       "      <td>1.109028</td>\n",
       "    </tr>\n",
       "    <tr>\n",
       "      <th>word</th>\n",
       "      <td>125.0</td>\n",
       "      <td>0.596678</td>\n",
       "      <td>0.120481</td>\n",
       "      <td>0.290267</td>\n",
       "      <td>0.50374</td>\n",
       "      <td>0.599737</td>\n",
       "      <td>0.691626</td>\n",
       "      <td>0.917598</td>\n",
       "    </tr>\n",
       "  </tbody>\n",
       "</table>\n",
       "</div>"
      ],
      "text/plain": [
       "              RT                                                             \\\n",
       "           count      mean       std       min      25%       50%       75%   \n",
       "condition                                                                     \n",
       "nonword    125.0  0.791036  0.122998  0.492957  0.70153  0.790963  0.870088   \n",
       "word       125.0  0.596678  0.120481  0.290267  0.50374  0.599737  0.691626   \n",
       "\n",
       "                     \n",
       "                max  \n",
       "condition            \n",
       "nonword    1.109028  \n",
       "word       0.917598  "
      ]
     },
     "execution_count": 20,
     "metadata": {},
     "output_type": "execute_result"
    }
   ],
   "source": [
    "df.groupby('condition').describe()"
   ]
  },
  {
   "cell_type": "markdown",
   "id": "e31ab24f-7f3f-4d71-8de0-b6e74a69313e",
   "metadata": {},
   "source": [
    "We can add a `hue` kwarg to `sns.displot()` to separate and colour-code the conditions in a histogram:\n",
    "\n",
    "~~~python\n",
    "sns.displot(data=df, x='RT', hue='condition')\n",
    "plt.show()\n",
    "~~~"
   ]
  },
  {
   "cell_type": "code",
   "execution_count": 21,
   "id": "45ff666e-c650-4f6e-b83a-53faecdbad47",
   "metadata": {},
   "outputs": [
    {
     "data": {
      "image/png": "[encoded data removed]",
      "text/plain": [
       "<Figure size 610.25x500 with 1 Axes>"
      ]
     },
     "metadata": {},
     "output_type": "display_data"
    }
   ],
   "source": [
    "sns.displot(data=df, x='RT', hue='condition')\n",
    "plt.show()"
   ]
  },
  {
   "cell_type": "markdown",
   "id": "718056a5-7677-4317-b65a-153be8e9e6f6",
   "metadata": {},
   "source": [
    "The grey area in the plot represents overlap.\n",
    "\n",
    "You can see that Seaborn does lots of nice things to the plot automatically, that make it easy to interpret: there are meaningful labels on both axes, and a legend telling us what each colour represents."
   ]
  },
  {
   "cell_type": "markdown",
   "id": "a55b7474-130a-47a1-ae72-7977420ef0fc",
   "metadata": {},
   "source": [
    "## Colour Choice\n",
    "\n",
    "Seaborn has a default *palette*, or set of colours, that it uses in sequence. You can see this with:\n",
    "    sns.color_palette()\n",
    "\n",
    "~~~python\n",
    "sns.color_palette()\n",
    "~~~"
   ]
  },
  {
   "cell_type": "code",
   "execution_count": 22,
   "id": "3cac4c61-8cc6-44b7-a650-19e2969c9f2f",
   "metadata": {},
   "outputs": [
    {
     "data": {
      "text/html": [
       "<svg  width=\"550\" height=\"55\"><rect x=\"0\" y=\"0\" width=\"55\" height=\"55\" style=\"fill:#1f77b4;stroke-width:2;stroke:rgb(255,255,255)\"/><rect x=\"55\" y=\"0\" width=\"55\" height=\"55\" style=\"fill:#ff7f0e;stroke-width:2;stroke:rgb(255,255,255)\"/><rect x=\"110\" y=\"0\" width=\"55\" height=\"55\" style=\"fill:#2ca02c;stroke-width:2;stroke:rgb(255,255,255)\"/><rect x=\"165\" y=\"0\" width=\"55\" height=\"55\" style=\"fill:#d62728;stroke-width:2;stroke:rgb(255,255,255)\"/><rect x=\"220\" y=\"0\" width=\"55\" height=\"55\" style=\"fill:#9467bd;stroke-width:2;stroke:rgb(255,255,255)\"/><rect x=\"275\" y=\"0\" width=\"55\" height=\"55\" style=\"fill:#8c564b;stroke-width:2;stroke:rgb(255,255,255)\"/><rect x=\"330\" y=\"0\" width=\"55\" height=\"55\" style=\"fill:#e377c2;stroke-width:2;stroke:rgb(255,255,255)\"/><rect x=\"385\" y=\"0\" width=\"55\" height=\"55\" style=\"fill:#7f7f7f;stroke-width:2;stroke:rgb(255,255,255)\"/><rect x=\"440\" y=\"0\" width=\"55\" height=\"55\" style=\"fill:#bcbd22;stroke-width:2;stroke:rgb(255,255,255)\"/><rect x=\"495\" y=\"0\" width=\"55\" height=\"55\" style=\"fill:#17becf;stroke-width:2;stroke:rgb(255,255,255)\"/></svg>"
      ],
      "text/plain": [
       "[(0.12156862745098039, 0.4666666666666667, 0.7058823529411765),\n",
       " (1.0, 0.4980392156862745, 0.054901960784313725),\n",
       " (0.17254901960784313, 0.6274509803921569, 0.17254901960784313),\n",
       " (0.8392156862745098, 0.15294117647058825, 0.1568627450980392),\n",
       " (0.5803921568627451, 0.403921568627451, 0.7411764705882353),\n",
       " (0.5490196078431373, 0.33725490196078434, 0.29411764705882354),\n",
       " (0.8901960784313725, 0.4666666666666667, 0.7607843137254902),\n",
       " (0.4980392156862745, 0.4980392156862745, 0.4980392156862745),\n",
       " (0.7372549019607844, 0.7411764705882353, 0.13333333333333333),\n",
       " (0.09019607843137255, 0.7450980392156863, 0.8117647058823529)]"
      ]
     },
     "execution_count": 22,
     "metadata": {},
     "output_type": "execute_result"
    }
   ],
   "source": [
    "sns.color_palette()"
   ]
  },
  {
   "cell_type": "markdown",
   "id": "48791225-0380-4af6-95a6-cdea50649d1e",
   "metadata": {},
   "source": [
    "So the first category plotted will be blue, the next orange, then green, etc..\n",
    "\n",
    "Seaborn provides a number of different colour palettes, although the default is a good choice as the hues are designed to be easily distinguished from each other, [even for people with different forms of colour blindness](https://gist.github.com/mwaskom/b35f6ebc2d4b340b4f64a4e28e778486).\n",
    "\n",
    "One alternative is the `Paired` palette (note the capital `P`), which is designed for when your data are naturally organized in pairs of categories (e.g., imagine if we had the conditions word and nonword, but we wanted to compare these in two different groups, such as native speakers and late learners of a language).\n",
    "\n",
    "~~~python\n",
    "sns.color_palette('Paired')\n",
    "~~~"
   ]
  },
  {
   "cell_type": "code",
   "execution_count": 23,
   "id": "3dce5290-550f-4fea-9c08-a86c339f0231",
   "metadata": {},
   "outputs": [
    {
     "data": {
      "text/html": [
       "<svg  width=\"660\" height=\"55\"><rect x=\"0\" y=\"0\" width=\"55\" height=\"55\" style=\"fill:#a6cee3;stroke-width:2;stroke:rgb(255,255,255)\"/><rect x=\"55\" y=\"0\" width=\"55\" height=\"55\" style=\"fill:#1f78b4;stroke-width:2;stroke:rgb(255,255,255)\"/><rect x=\"110\" y=\"0\" width=\"55\" height=\"55\" style=\"fill:#b2df8a;stroke-width:2;stroke:rgb(255,255,255)\"/><rect x=\"165\" y=\"0\" width=\"55\" height=\"55\" style=\"fill:#33a02c;stroke-width:2;stroke:rgb(255,255,255)\"/><rect x=\"220\" y=\"0\" width=\"55\" height=\"55\" style=\"fill:#fb9a99;stroke-width:2;stroke:rgb(255,255,255)\"/><rect x=\"275\" y=\"0\" width=\"55\" height=\"55\" style=\"fill:#e31a1c;stroke-width:2;stroke:rgb(255,255,255)\"/><rect x=\"330\" y=\"0\" width=\"55\" height=\"55\" style=\"fill:#fdbf6f;stroke-width:2;stroke:rgb(255,255,255)\"/><rect x=\"385\" y=\"0\" width=\"55\" height=\"55\" style=\"fill:#ff7f00;stroke-width:2;stroke:rgb(255,255,255)\"/><rect x=\"440\" y=\"0\" width=\"55\" height=\"55\" style=\"fill:#cab2d6;stroke-width:2;stroke:rgb(255,255,255)\"/><rect x=\"495\" y=\"0\" width=\"55\" height=\"55\" style=\"fill:#6a3d9a;stroke-width:2;stroke:rgb(255,255,255)\"/><rect x=\"550\" y=\"0\" width=\"55\" height=\"55\" style=\"fill:#ffff99;stroke-width:2;stroke:rgb(255,255,255)\"/><rect x=\"605\" y=\"0\" width=\"55\" height=\"55\" style=\"fill:#b15928;stroke-width:2;stroke:rgb(255,255,255)\"/></svg>"
      ],
      "text/plain": [
       "[(0.6509803921568628, 0.807843137254902, 0.8901960784313725),\n",
       " (0.12156862745098039, 0.47058823529411764, 0.7058823529411765),\n",
       " (0.6980392156862745, 0.8745098039215686, 0.5411764705882353),\n",
       " (0.2, 0.6274509803921569, 0.17254901960784313),\n",
       " (0.984313725490196, 0.6039215686274509, 0.6),\n",
       " (0.8901960784313725, 0.10196078431372549, 0.10980392156862745),\n",
       " (0.9921568627450981, 0.7490196078431373, 0.43529411764705883),\n",
       " (1.0, 0.4980392156862745, 0.0),\n",
       " (0.792156862745098, 0.6980392156862745, 0.8392156862745098),\n",
       " (0.41568627450980394, 0.23921568627450981, 0.6039215686274509),\n",
       " (1.0, 1.0, 0.6),\n",
       " (0.6941176470588235, 0.34901960784313724, 0.1568627450980392)]"
      ]
     },
     "execution_count": 23,
     "metadata": {},
     "output_type": "execute_result"
    }
   ],
   "source": [
    "sns.color_palette('Paired')"
   ]
  },
  {
   "cell_type": "markdown",
   "id": "6a0ce88a-557b-4dd5-b980-6319920ad9c8",
   "metadata": {},
   "source": [
    "Let's re-plot our 2-condition histogram with the `Paired` palette:"
   ]
  },
  {
   "cell_type": "markdown",
   "id": "f6214b32-a958-4f31-be24-1d79e0713331",
   "metadata": {},
   "source": [
    "~~~python\n",
    "sns.displot(data=df, x='RT', hue='condition', palette='Paired')\n",
    "plt.show()\n",
    "~~~"
   ]
  },
  {
   "cell_type": "code",
   "execution_count": 25,
   "id": "7e3ab5ae-aa27-48a6-8024-4008fe0110e7",
   "metadata": {},
   "outputs": [
    {
     "data": {
      "image/png": "[encoded data removed]",
      "text/plain": [
       "<Figure size 610.25x500 with 1 Axes>"
      ]
     },
     "metadata": {},
     "output_type": "display_data"
    }
   ],
   "source": [
    "sns.displot(data=df, x='RT', hue='condition', palette='Paired')\n",
    "plt.show()"
   ]
  },
  {
   "cell_type": "markdown",
   "id": "13d230c5-9d06-4689-a84e-ec3be61a943f",
   "metadata": {},
   "source": [
    "Some palettes are better for some things than others, though — for example, in the histogram above, the overlap is not very distinct from the other shades of blue.\n",
    "\n",
    "We can use the `hue` kwarg with other Seaborn plots as well, like `kde`:"
   ]
  },
  {
   "cell_type": "markdown",
   "id": "743b9ea4-ddef-4183-af29-ad2f36fce774",
   "metadata": {},
   "source": [
    "~~~python\n",
    "sns.displot(kind='kde',\n",
    "           data=df,\n",
    "           x='RT', hue='condition', \n",
    "           palette='colorblind')\n",
    "plt.show()\n",
    "~~~"
   ]
  },
  {
   "cell_type": "code",
   "execution_count": null,
   "id": "a08a5f35-4d11-4018-83d0-21fbc7dcdfbd",
   "metadata": {},
   "outputs": [
    {
     "data": {
      "image/png": "[encoded data removed]",
      "text/plain": [
       "<Figure size 610.25x500 with 1 Axes>"
      ]
     },
     "metadata": {},
     "output_type": "display_data"
    }
   ],
   "source": [
    "sns.displot(kind='kde', data=df, x= 'RT', hue= 'condition')\n",
    "plt.show()"
   ]
  },
  {
   "cell_type": "markdown",
   "id": "8f1f4829-51fb-451f-b7c5-2b52dfffbbaa",
   "metadata": {},
   "source": [
    "## Categorical Plots \n",
    "\n",
    "Histograms and KDEs are used to visualize the distribution of continuous variables, like RT in our example data set.  We can also plot categorical variables, by drawing different histograms/KDEs for each category, like for word vs. nonword in the plots above. These plots are most useful for visualizing the *shape* of the distributions of the data. This is an important first step in working with data, because some ways of treating data (including statistical tests like *t*-tests and ANOVAs) assume that the data are normally distributed, (the classic \"bell curve\"), and may not work as well or as accurately on data that have very different distributions. On the other hand, in such cases other approaches to analyzing the data could be more appropriate. \n",
    "\n",
    "That said, once we understand the distribution of the data, we might want to focus more on assessing whether there are differences between different categories (such as experimental conditions, or groups). This is where Seaborn's `catplot()` family of plots comes into play. \n",
    "\n",
    "`sns.catplot()` has 6 different plotting options, as shown in the figure at the top of this lesson. All of them allow us to view the distribution of the data, but in different ways, and often with a focus more on showing the mean, or median. This allows us to more easily compare differences between conditions, while considering the extent to which their distributions overlap or not. We'll show a few of them in this lesson. \n",
    "\n",
    "### Box plots\n",
    "\n",
    "Box plots (sometimes called box-and-whisker plots) are a classic and widely-used approach to comparing between categorical variables. The \"box\" shows the **interquartile range** (IQR) — the range between the 25th and 75th percentiles of the data. In other words, half of the data falls within this box. The line inside the box represents the **median**, or the value exactly in the middle of all the values in the data set. The whiskers (lines extending out from the box) end at ±1.5 x the IQR (more on that in a minute), and then any points plotted outside the whiskers are considered outliers. The idea behind this is that the whiskers end at what might reasonably be predicted to reflect the minimum and maximum values in the distribution, and any outliers are likely to be inaccurate measurements or other types of \"noise\". Below is a figure showing how the box plot masks on to the normal distribution, which is a helpful way to think about interpreting box plots.\n",
    "\n",
    "![](https://upload.wikimedia.org/wikipedia/commons/1/1a/Boxplot_vs_PDF.svg)\n",
    "\n",
    "*Image from [Jhguch](https://en.wikipedia.org/wiki/User:Jhguch) and shared under the  [Creative Commons Attribution-Share Alike 2.5 Generic](https://creativecommons.org/licenses/by-sa/2.5/deed.en) license*"
   ]
  },
  {
   "cell_type": "markdown",
   "id": "975cf2c7-e370-4f45-a27e-95cb2da80d52",
   "metadata": {},
   "source": [
    "### Drawing box plots with Seaborn\n",
    "\n",
    "We use `sns.catplot()` with the `kind='box'` kwarg:\n",
    "\n",
    "~~~python\n",
    "sns.catplot(kind='box',\n",
    "           data=df, \n",
    "           x='condition', y='RT')\n",
    "\n",
    "plt.show()\n",
    "~~~"
   ]
  },
  {
   "cell_type": "code",
   "execution_count": null,
   "id": "cf6f050a-3ad7-4973-b84e-16de21c0c719",
   "metadata": {},
   "outputs": [],
   "source": []
  },
  {
   "cell_type": "markdown",
   "id": "d8f084d7-1f20-4e31-a7f6-22d4ffde47cf",
   "metadata": {},
   "source": [
    "We can see from this that the distributions of the two conditions appear quite different, and indeed their IQRs do not overlap at all. This gives us good confidence that RTs are probably different in the two conditions. You can also see that there are a few outliers (the diamonds outside the whiskers). \n",
    "\n",
    "Although we lose some of the details of the distribution in going from a histogram to a box plot, we gain some simplicity, and it's easier to assess how different our different conditions are. \n"
   ]
  },
  {
   "cell_type": "markdown",
   "id": "12951564-2ff4-4f90-bcd6-a6bb287c49bf",
   "metadata": {},
   "source": [
    "## Violin Plots\n",
    "\n",
    "A violin plot is in some ways the \"best of both worlds\", combining a box plot with a KDE. Note that the syntax of this plot is identical to that for the box plot above, except the `kind` kwarg.\n",
    "\n",
    "~~~python\n",
    "sns.catplot(kind='violin',\n",
    "           data=df, \n",
    "           x='condition', y='RT')\n",
    "\n",
    "plt.show()\n",
    "~~~"
   ]
  },
  {
   "cell_type": "code",
   "execution_count": null,
   "id": "61145d09-d0c3-4a85-b26d-d80bb1c9d50b",
   "metadata": {},
   "outputs": [],
   "source": []
  },
  {
   "cell_type": "markdown",
   "id": "95e0b388-a9a9-41ac-98cc-558e0f46c7ba",
   "metadata": {},
   "source": [
    "The box plot has been made more narrow, but the thicker black line inside each \"violin\" is the IQR, and the thinner lines the whiskers. The coloured, shaded area is the KDE. For aesthetic reasons, the KDE is shown on both sides of the box plot (although if you have different sub-categories, you could plot different distributions on each side). \n",
    "\n",
    "In adding the distribution plot to the box plot, you gain detail, but perhaps at the cost of the simplicity of a box plot, and its usefulness in making inferences about differences between conditions. \n",
    "\n",
    "<div class=\"alert alert-block alert-info\">\n",
    "I'll comment for the record that \"violin\" plot is a terrible name — if the distribution of your data was actually shaped like a violin that would be very suspicious! I prefer Salem Waligura-Newman's name for them, which is \"stingray plots\". But sadly, once a name is out there, it sticks so you should get used to calling them violin plots. \n",
    "</div>"
   ]
  },
  {
   "cell_type": "markdown",
   "id": "b1e93278-7c7a-459d-b057-dcb9f3d49312",
   "metadata": {},
   "source": [
    "## Strip and Swarm plots\n",
    "\n",
    "These are quite similar, and both plot the actual individual data points. \n",
    "\n",
    "\n",
    "~~~python\n",
    "sns.catplot(kind='strip',\n",
    "           data=df, \n",
    "           x='condition', y='RT')\n",
    "\n",
    "plt.show()\n",
    "~~~"
   ]
  },
  {
   "cell_type": "code",
   "execution_count": null,
   "id": "b7b33fa3-9027-42a8-9101-ae9644222aec",
   "metadata": {},
   "outputs": [],
   "source": []
  },
  {
   "cell_type": "markdown",
   "id": "c1570084-64b7-4bcb-abd5-0b4713319cac",
   "metadata": {},
   "source": [
    "Swarm plots shift data points laterally when they are dense, reducing overlap and making it easier to see where the data are more dense.\n",
    "\n",
    "~~~python\n",
    "sns.catplot(kind='swarm',\n",
    "           data=df, \n",
    "           x='condition', y='RT')\n",
    "\n",
    "plt.show()\n",
    "~~~"
   ]
  },
  {
   "cell_type": "code",
   "execution_count": null,
   "id": "9a21564f-6b7c-4eda-b4f4-3cf71509882b",
   "metadata": {},
   "outputs": [],
   "source": []
  },
  {
   "cell_type": "markdown",
   "id": "7b3aeb10-1b3e-4456-a490-71690f31bc60",
   "metadata": {},
   "source": [
    "## Bar plots\n",
    "\n",
    "These are classic ways of representing data, that focus more on showing and comparing means for different conditions, than on the distribution. The \"error bars\" (black bars at the top of each bar below) represent 95% confidence intervals, which are a way of representing variance that is better-suited for comparing between means, than for assessing the shape or breadth of the distribution. You can see below that the bar plots lose a lot of the information about the distributions of data, relative to box plots or any of the other plots above. \n",
    "\n",
    "Another limitation of bar plots is that they are \"anchored\" at zero. For some data this makes sense, especially if the data values relative to zero are meaningful. But in many cases — including our current RT data — this doesn't make a lot of sense. An RT of zero would be considered invalid data, since the human nervous system can't execute a response to a stimulus at the speed of light. So our experiment is not really concerned with how much slower than zero a person responded. As well, if your data values are far from zero, and the differences between conditions are relatively small, then bar plots make the differences look meaninglessly small, because the *y* axis has to span the entire range from zero to the maximum value in the plot.\n",
    "\n",
    "~~~python\n",
    "sns.catplot(kind='bar',\n",
    "            data=df, \n",
    "            x='condition', y='RT')\n",
    "\n",
    "plt.show()\n",
    "~~~"
   ]
  },
  {
   "cell_type": "code",
   "execution_count": null,
   "id": "7f997b4b-e892-4eda-88d4-9217cd0ceb89",
   "metadata": {},
   "outputs": [],
   "source": []
  },
  {
   "cell_type": "markdown",
   "id": "052d69d5-b5b2-4eba-83ad-a7ffda4f2b3f",
   "metadata": {},
   "source": [
    "## Point and Line Plots\n",
    "\n",
    "Point plots generally are a better choice when you want to focus on comparing means between categories, because they simply show the means as points, with 95% confidence intervals. The scale of the plots will be more appropriate, without the visual bias that bar plots create by filling the range from zero to the mean of each condition with a big block of colour.\n",
    "\n",
    "By default, Seaborn draws lines connecting the points in a plot. This is only really appropriate if your categories are \"connected\" in some meaningful way, such as different time points (e.g., pre- vs. post-treatment for some intervention), or when you have multiple categorical variables. \n",
    "\n",
    "~~~python\n",
    "sns.catplot(kind='point',\n",
    "           data=df, \n",
    "           x='condition', y='RT')\n",
    "\n",
    "plt.show()\n",
    "~~~"
   ]
  },
  {
   "cell_type": "code",
   "execution_count": null,
   "id": "e02330bf-9142-4210-b5ae-f6509517f49a",
   "metadata": {},
   "outputs": [],
   "source": []
  },
  {
   "cell_type": "markdown",
   "id": "ea3af447-d92c-48e7-b902-92db70bca951",
   "metadata": {},
   "source": [
    "We can remove the lines with `join=False`, and colour-code the different levels of condition with `hue='condition'`\n",
    "\n",
    "~~~python\n",
    "sns.catplot(kind='point', join=False, hue='condition',\n",
    "           data=df, \n",
    "           x='condition', y='RT')\n",
    "\n",
    "plt.show()\n",
    "~~~"
   ]
  },
  {
   "cell_type": "code",
   "execution_count": null,
   "id": "8952554d-c8fb-4ebf-8d81-d9417f0c2c2a",
   "metadata": {},
   "outputs": [],
   "source": []
  },
  {
   "cell_type": "markdown",
   "id": "d2b0980f-071f-493c-ab53-9f0d6eb0bf50",
   "metadata": {
    "tags": []
   },
   "source": [
    "---\n",
    "\n",
    "## Summary\n",
    "- Seaborn makes it easy to generate plots useful for EDA\n",
    "- `relplot()` is used for visualizing relationships between two continuous variables\n",
    "- `displot()` is used for visualizing distributions of data, as histograms or kernel density estimates (KDEs)\n",
    "- `catplot()` is used for making comparisons between different levels of categorical data, such as different experimental conditions or groups\n",
    "- Different kinds of `catplot()` plots vary in how much they communicate information about the distributions of data in each category, versus on differences between the means of the categories\n",
    "- In EDA, it's often useful to visualize the data many ways to really understand it. Even still, it's important to have an understanding of the strengths and limitations of different kinds of plots\n",
    "- Seaborn makes it relatively easy to generate plots and adjust properties such as colour and font size, and as well as making plots accessible to the widest range of viewers"
   ]
  }
 ],
 "metadata": {
  "kernelspec": {
   "display_name": "Python 3",
   "language": "python",
   "name": "python3"
  },
  "language_info": {
   "codemirror_mode": {
    "name": "ipython",
    "version": 3
   },
   "file_extension": ".py",
   "mimetype": "text/x-python",
   "name": "python",
   "nbconvert_exporter": "python",
   "pygments_lexer": "ipython3",
   "version": "3.8.8"
  }
 },
 "nbformat": 4,
 "nbformat_minor": 5
}
